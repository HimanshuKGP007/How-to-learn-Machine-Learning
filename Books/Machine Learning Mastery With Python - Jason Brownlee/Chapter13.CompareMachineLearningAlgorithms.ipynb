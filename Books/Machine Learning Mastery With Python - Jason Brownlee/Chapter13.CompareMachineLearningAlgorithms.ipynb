{
  "cells": [
    {
      "metadata": {
        "collapsed": true
      },
      "cell_type": "markdown",
      "source": "### 13.1 Choose The best Machine Learning Model\nWhen you work on a machine learning project, you often end up with multiple good models to choose from. \nUsing resampling methods like cross validation, you can get an estimate for how accurate each model may be on unseen data. \nWhen you have a new dataset, it is a good idea to visualize the data using di↵erent techniques in order to look at the data from different perspectives. \nThe same idea applies to model selection. You should use a number of di↵erent ways of looking at the estimated accuracy of your machine learning algorithms in order to choose the one or two algorithm to finalize. A way to do this is to use visualization methods to show the average accuracy, variance and other properties of the distribution of model accuracies. "
    },
    {
      "metadata": {},
      "cell_type": "markdown",
      "source": "### 13.2 Compare Machine Learning Algorithms Consistently"
    },
    {
      "metadata": {},
      "cell_type": "markdown",
      "source": "The key to a fair comparison of machine learning algorithms is ensuring that each algorithm is evaluated in the same way on the same data. "
    },
    {
      "metadata": {
        "trusted": true
      },
      "cell_type": "code",
      "source": "# Compare Algorithms\nimport pandas\nimport matplotlib.pyplot as plt\nfrom sklearn import model_selection\nfrom sklearn.linear_model import LogisticRegression\nfrom sklearn.tree import DecisionTreeClassifier\nfrom sklearn.neighbors import KNeighborsClassifier\nfrom sklearn.discriminant_analysis import LinearDiscriminantAnalysis\nfrom sklearn.naive_bayes import GaussianNB\nfrom sklearn.svm import SVC",
      "execution_count": 8,
      "outputs": []
    },
    {
      "metadata": {
        "trusted": true
      },
      "cell_type": "code",
      "source": "# load dataset\nurl = \"http://ftp.ics.uci.edu/pub/machine-learning-databases/pima-indians-diabetes/pima-indians-diabetes.data\"\nnames=[\"preg\", \"plas\", \"pres\", \"skin\", \"test\", \"mass\", \"pedi\", \"age\", \"class\"] \ndataframe = pandas.read_csv(url, names=names)\narray = dataframe.values\nX = array[:,0:8]\nY = array[:,8]",
      "execution_count": 9,
      "outputs": []
    },
    {
      "metadata": {
        "trusted": true
      },
      "cell_type": "code",
      "source": "# prepare configuration for cross validation test harness\nnum_folds = 10\nnum_instances = len(X)\nseed = 7",
      "execution_count": 10,
      "outputs": []
    },
    {
      "metadata": {
        "trusted": true
      },
      "cell_type": "code",
      "source": "# prepare models\nmodels = []\nmodels.append(( 'LR' , LogisticRegression()))\nmodels.append(( 'LDA' , LinearDiscriminantAnalysis()))\nmodels.append(( 'KNN' , KNeighborsClassifier()))\nmodels.append(( 'CART' , DecisionTreeClassifier()))\nmodels.append(( 'NB' , GaussianNB()))\nmodels.append(( 'SVM' , SVC()))",
      "execution_count": 11,
      "outputs": []
    },
    {
      "metadata": {
        "trusted": true
      },
      "cell_type": "code",
      "source": "# evaluate each model in turn\nresults = []\nnames = []\nscoring = 'accuracy'\nfor name, model in models:\n    kfold = model_selection.KFold(n_splits=num_folds, random_state=seed) \n    cv_results = model_selection.cross_val_score(model, X, Y, cv=kfold, scoring=scoring)\n    results.append(cv_results)\n    names.append(name)\n    msg = \"%s: %f (%f)\" % (name, cv_results.mean(), cv_results.std())\n    print(msg)",
      "execution_count": 12,
      "outputs": [
        {
          "output_type": "stream",
          "text": "LR: 0.769515 (0.048411)\nLDA: 0.773462 (0.051592)\nKNN: 0.726555 (0.061821)\nCART: 0.691285 (0.062716)\nNB: 0.755178 (0.042766)\nSVM: 0.651025 (0.072141)\n",
          "name": "stdout"
        }
      ]
    },
    {
      "metadata": {},
      "cell_type": "markdown",
      "source": "The example also provides a box and whisker plot showing the spread of the accuracy scores across each cross validation fold for each algorithm."
    },
    {
      "metadata": {
        "trusted": true
      },
      "cell_type": "code",
      "source": "# boxplot algorithm comparison\nfig = plt.figure()\nfig.suptitle('Algorithm Comparison')\nax = fig.add_subplot(111)\nplt.boxplot(results)\nax.set_xticklabels(names)\nplt.show()\n",
      "execution_count": 14,
      "outputs": [
        {
          "output_type": "display_data",
          "data": {
            "image/png": "[encoded data removed]",
            "text/plain": "<matplotlib.figure.Figure at 0x7f90772576a0>"
          },
          "metadata": {}
        }
      ]
    },
    {
      "metadata": {},
      "cell_type": "markdown",
      "source": "From these results, it would suggest that both logistic regression and linear discriminant analysis are perhaps worthy of further study on this problem."
    },
    {
      "metadata": {
        "trusted": true
      },
      "cell_type": "code",
      "source": "",
      "execution_count": null,
      "outputs": []
    }
  ],
  "metadata": {
    "kernelspec": {
      "name": "python36",
      "display_name": "Python 3.6",
      "language": "python"
    },
    "language_info": {
      "mimetype": "text/x-python",
      "nbconvert_exporter": "python",
      "name": "python",
      "pygments_lexer": "ipython3",
      "version": "3.6.6",
      "file_extension": ".py",
      "codemirror_mode": {
        "version": 3,
        "name": "ipython"
      }
    }
  },
  "nbformat": 4,
  "nbformat_minor": 2
}