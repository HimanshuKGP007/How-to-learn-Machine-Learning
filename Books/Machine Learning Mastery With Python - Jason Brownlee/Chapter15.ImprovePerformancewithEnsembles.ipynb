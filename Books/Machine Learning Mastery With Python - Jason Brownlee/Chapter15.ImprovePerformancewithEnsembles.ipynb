{
  "cells": [
    {
      "metadata": {
        "collapsed": true
      },
      "cell_type": "markdown",
      "source": "Ensembles can give you a boost in accuracy on your dataset. \nThis lesson will step you through Boosting, Bagging and Majority Voting and show you how you can continue to ratchet up the accuracy of the models on your own datasets. \n\n1. How to use bagging ensemble methods such as bagged decision trees, random forest and extra trees.\n2. How to use boosting ensemble methods such as AdaBoost and stochastic gradient boosting.\n3. How to use voting ensemble methods to combine the predictions from multiple algorithms."
    },
    {
      "metadata": {
        "trusted": true
      },
      "cell_type": "code",
      "source": "",
      "execution_count": null,
      "outputs": []
    }
  ],
  "metadata": {
    "kernelspec": {
      "name": "python36",
      "display_name": "Python 3.6",
      "language": "python"
    },
    "language_info": {
      "mimetype": "text/x-python",
      "nbconvert_exporter": "python",
      "name": "python",
      "pygments_lexer": "ipython3",
      "version": "3.6.6",
      "file_extension": ".py",
      "codemirror_mode": {
        "version": 3,
        "name": "ipython"
      }
    }
  },
  "nbformat": 4,
  "nbformat_minor": 2
}