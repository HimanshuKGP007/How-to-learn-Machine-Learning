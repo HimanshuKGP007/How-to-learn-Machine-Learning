{
  "cells": [
    {
      "metadata": {},
      "cell_type": "markdown",
      "source": "Spot-Check Regression Algorithms\nDate: 2018/11/09"
    },
    {
      "metadata": {
        "collapsed": true
      },
      "cell_type": "markdown",
      "source": "Spot-checking is a way of discovering which algorithms perform well on your machine learning problem. You cannot know which algorithms are best suited to your problem beforehand."
    },
    {
      "metadata": {},
      "cell_type": "markdown",
      "source": "### 12.2 Linear Machine Learning Algorithms\n#### 12.2.1 Linear Regression\n\nLinear regression assumes that the input variables have a Gaussian distribution. It is also assumed that input variables are relevant to the output variable and that they are not highly correlated with each other."
    },
    {
      "metadata": {
        "trusted": true
      },
      "cell_type": "code",
      "source": "# Linear Regression\nimport pandas\nfrom sklearn.model_selection import cross_val_score\nfrom sklearn.linear_model import LinearRegression\n\nurl = \"https://goo.gl/sXleFv\"\nnames=[\"CRIM\", \"ZN\", \"INDUS\", \"CHAS\", \"NOX\", \"RM\", \"AGE\", \"DIS\", \"RAD\", \"TAX\", \"PTRATIO\", \"B\", \"LSTAT\", \"MEDV\"]\ndataframe = pandas.read_csv(url, delim_whitespace=True, names=names)\narray = dataframe.values\nX = array[:,0:13]\nY = array[:,13]\nnum_folds = 10\nnum_instances = len(X)\nseed = 7\nkfold = model_selection.KFold(n_splits=num_folds, random_state=seed) \nmodel = LinearRegression()\nscoring = 'neg_mean_squared_error'\nresults = cross_val_score(model, X, Y, cv=kfold, scoring=scoring) \nprint(results.mean())",
      "execution_count": 11,
      "outputs": [
        {
          "output_type": "stream",
          "text": "-34.705255944524446\n",
          "name": "stdout"
        }
      ]
    },
    {
      "metadata": {},
      "cell_type": "markdown",
      "source": "#### 12.2.2 Ridge Regression\n\nRidge regression is an extension of linear regression where the loss function is modified to minimize the complexity of the model measured as the sum squared value of the coe cient values (also called the L2-norm). "
    },
    {
      "metadata": {
        "trusted": true
      },
      "cell_type": "code",
      "source": "# Ridge Regression\nimport pandas\nfrom sklearn.model_selection import cross_val_score\nfrom sklearn.linear_model import Ridge\nurl = \"https://goo.gl/sXleFv\"\nnames=[\"CRIM\", \"ZN\", \"INDUS\", \"CHAS\", \"NOX\", \"RM\", \"AGE\", \"DIS\", \"RAD\", \"TAX\", \"PTRATIO\", \"B\", \"LSTAT\", \"MEDV\"]\ndataframe = pandas.read_csv(url, delim_whitespace=True, names=names)\narray = dataframe.values\nX = array[:,0:13]\nY = array[:,13]\nnum_folds = 10\n\nseed = 7\nkfold = model_selection.KFold(n_splits=num_folds, random_state=seed) \nmodel = Ridge()\nscoring = 'neg_mean_squared_error'\nresults = cross_val_score(model, X, Y, cv=kfold, scoring=scoring) \nprint(results.mean())",
      "execution_count": 13,
      "outputs": [
        {
          "output_type": "stream",
          "text": "-34.07824620925937\n",
          "name": "stdout"
        }
      ]
    },
    {
      "metadata": {},
      "cell_type": "markdown",
      "source": "#### 12.2.3 LASSO Regression\nThe Least Absolute Shrinkage and Selection Operator (or LASSO for short) is a modification of linear regression, like ridge regression, where the loss function is modified to minimize the complexity of the model measured as the sum absolute value of the coe cient values (also called the L1-norm)."
    },
    {
      "metadata": {
        "trusted": true
      },
      "cell_type": "code",
      "source": "# Lasso Regression\nimport pandas\nfrom sklearn.model_selection import cross_val_score\nfrom sklearn.linear_model import Lasso\nurl = \"https://goo.gl/sXleFv\"\nnames=[\"CRIM\", \"ZN\", \"INDUS\", \"CHAS\", \"NOX\", \"RM\", \"AGE\", \"DIS\", \"RAD\", \"TAX\", \"PTRATIO\", \"B\", \"LSTAT\", \"MEDV\"]\ndataframe = pandas.read_csv(url, delim_whitespace=True, names=names) \narray = dataframe.values\nX = array[:,0:13]\nY = array[:,13]\nnum_folds = 10\nnum_instances = len(X)\nseed = 7\nkfold = cross_validation.KFold(n=num_instances, n_folds=num_folds, random_state=seed)\nmodel = Lasso()\nscoring = 'neg_mean_squared_error'\nresults = cross_val_score(model, X, Y, cv=kfold, scoring=scoring)\nprint(results.mean())",
      "execution_count": 16,
      "outputs": [
        {
          "output_type": "stream",
          "text": "-34.46408458830233\n",
          "name": "stdout"
        }
      ]
    },
    {
      "metadata": {
        "trusted": true
      },
      "cell_type": "code",
      "source": "",
      "execution_count": null,
      "outputs": []
    }
  ],
  "metadata": {
    "kernelspec": {
      "name": "python36",
      "display_name": "Python 3.6",
      "language": "python"
    },
    "language_info": {
      "mimetype": "text/x-python",
      "nbconvert_exporter": "python",
      "name": "python",
      "pygments_lexer": "ipython3",
      "version": "3.6.6",
      "file_extension": ".py",
      "codemirror_mode": {
        "version": 3,
        "name": "ipython"
      }
    }
  },
  "nbformat": 4,
  "nbformat_minor": 2
}