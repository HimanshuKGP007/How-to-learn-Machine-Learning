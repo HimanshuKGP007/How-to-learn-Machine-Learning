{
  "cells": [
    {
      "metadata": {
        "collapsed": true
      },
      "cell_type": "markdown",
      "source": "Applied machine learning is an empirical skill. \nYou cannot get better at it by reading books and articles. \nYou have to practice. "
    },
    {
      "metadata": {},
      "cell_type": "markdown",
      "source": "### 18.1 Practice Machine Learning With Projects\n#### 18.1.1 Use A Structured Step-By-Step Process\n\nAny predictive modeling machine learning project can be broken down into six common tasks:\n1. Define Problem.\n2. Summarize Data.\n3. Prepare Data.\n4. Evaluate Algorithms.\n5. Improve Results.\n6. Present Results.\n"
    },
    {
      "metadata": {},
      "cell_type": "markdown",
      "source": "### 18.2 Machine Learning Project Template in Python\n#### 18.2.1 Template Summary"
    },
    {
      "metadata": {
        "trusted": true
      },
      "cell_type": "code",
      "source": "# Python Project Template\n# 1. Prepare Problem\n# a) Load libraries\n# b) Load dataset\n# 2. Summarize Data\n# a) Descriptive statistics\n# b) Data visualizations\n# 3. Prepare Data\n# a) Data Cleaning\n# b) Feature Selection\n# c) Data Transforms\n# 4. Evaluate Algorithms\n# a) Split-out validation dataset\n# b) Test options and evaluation metric\n# c) Spot-Check Algorithms\n# d) Compare Algorithms\n# 5. Improve Accuracy\n# a) Algorithm Tuning\n# b) Ensembles\n# 6. Finalize Model\n# a) Predictions on validation dataset\n# b) Create standalone model on entire training dataset\n# c) Save model for later use",
      "execution_count": 1,
      "outputs": []
    },
    {
      "metadata": {},
      "cell_type": "markdown",
      "source": "### 18.3 Machine Learning Project Template Steps\n### 18.3.1 Prepare Problem\n- Python modules, classes and functions that you intend to use.\n- Loading your dataset from CSV.\n\nIt is also the place where you might need to make a reduced sample of your dataset if it is too large to work with. Ideally, your dataset should be small enough to build a model or create a visualization within a minute, ideally 30 seconds. You can always scale up well performing models later."
    },
    {
      "metadata": {},
      "cell_type": "markdown",
      "source": "#### 18.3.2 Summarize Data\nThis step is about better understanding the data that you have available.\n- Descriptive statistics such as summaries.\n- Data visualizations such as plots with Matplotlib, ideally using convenience functions from Pandas."
    },
    {
      "metadata": {},
      "cell_type": "markdown",
      "source": "#### 18.3.3 Prepare Data\n\nThis step is about preparing the data in such a way that it best exposes the structure of the problem and the relationships between your input attributes with the output variable.\n- Cleaning data by removing duplicates, marking missing values and even imputing missing values.\n- Feature selection where redundant features may be removed and new features developed.\n- Data transforms where attributes are scaled or redistributed in order to best expose the structure of the problem later to learning algorithms."
    },
    {
      "metadata": {},
      "cell_type": "markdown",
      "source": "#### 18.3.4 Evaluate Algorithms\nThis involves steps such as:\n- Separating out a validation dataset to use for later confirmation of the skill of your developed model.\n- Defining test options using scikit-learn such as cross validation and the evaluation metric to use.\n- Spot-checking a suite of linear and nonlinear machine learning algorithms.\n- Comparing the estimated accuracy of algorithms."
    },
    {
      "metadata": {},
      "cell_type": "markdown",
      "source": "#### 18.3.5 Improve Accuracy\nThere are two different ways to improve the accuracy of your models:\n- Search for a combination of parameters for each algorithm using scikit-learn that yields the best results.\n- Combine the prediction of multiple models into an ensemble prediction using ensemble techniques."
    },
    {
      "metadata": {},
      "cell_type": "markdown",
      "source": "#### 18.3.6 Finalize Model\nFinalizing a model may involve sub-tasks such as:\n- Using an optimal model tuned by scikit-learn to make predictions on unseen data.\n- Creating a standalone model using the parameters tuned by scikit-learn.\n- Saving an optimal model to file for later use."
    },
    {
      "metadata": {
        "trusted": true
      },
      "cell_type": "code",
      "source": "",
      "execution_count": null,
      "outputs": []
    }
  ],
  "metadata": {
    "kernelspec": {
      "name": "python36",
      "display_name": "Python 3.6",
      "language": "python"
    },
    "language_info": {
      "mimetype": "text/x-python",
      "nbconvert_exporter": "python",
      "name": "python",
      "pygments_lexer": "ipython3",
      "version": "3.6.6",
      "file_extension": ".py",
      "codemirror_mode": {
        "version": 3,
        "name": "ipython"
      }
    }
  },
  "nbformat": 4,
  "nbformat_minor": 2
}