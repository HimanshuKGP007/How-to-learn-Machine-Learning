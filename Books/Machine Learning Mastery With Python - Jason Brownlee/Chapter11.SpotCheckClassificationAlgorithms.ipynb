{
  "cells": [
    {
      "metadata": {
        "collapsed": true
      },
      "cell_type": "markdown",
      "source": "Spot-checking is a way of discovering which algorithms perform well on your machine learning problem.\n### 11.1 Algorithm Spot-Checking\nYou must use trial and error to discover a short-list of algorithms that do well on your problem that you can then double down on and tune further. I call this process spot-checking.\n\nYou must use trial and error to discover a short-list of algorithms that do well on your problem that you can then double down on and tune further. I call this process spot-checking."
    },
    {
      "metadata": {},
      "cell_type": "markdown",
      "source": "- Try a mixture of algorithm representations (e.g. instances and trees).\n- Try a mixture of learning algorithms (e.g. di↵erent algorithms for learning the same type of representation).\n- Try a mixture of modeling types (e.g. linear and nonlinear functions or parametric and nonparametric)."
    },
    {
      "metadata": {},
      "cell_type": "markdown",
      "source": "### 11.3 Linear Machine Learning Algorithms\n#### 11.3.1 Logistic Regression\nLogistic regression assumes a Gaussian distribution for the numeric input variables and can model binary classification problems. "
    },
    {
      "metadata": {
        "trusted": true
      },
      "cell_type": "code",
      "source": "# Logistic Regression Classification\nimport pandas\nfrom sklearn import cross_validation\nfrom sklearn.linear_model import LogisticRegression\n\nurl = \"http://ftp.ics.uci.edu/pub/machine-learning-databases/pima-indians-diabetes/pima-indians-diabetes.data\"\nnames=[\"preg\", \"plas\", \"pres\", \"skin\", \"test\", \"mass\", \"pedi\", \"age\", \"class\"] \ndataframe = pandas.read_csv(url, names=names)\narray = dataframe.values\nX = array[:,0:8]\nY = array[:,8]\nnum_folds = 10\nnum_instances = len(X)\nseed = 7\nkfold = cross_validation.KFold(n=num_instances, n_folds=num_folds, random_state=seed)\nmodel = LogisticRegression()\nresults = cross_validation.cross_val_score(model, X, Y, cv=kfold)\nprint(results.mean())",
      "execution_count": 1,
      "outputs": [
        {
          "output_type": "stream",
          "text": "/home/nbuser/anaconda3_501/lib/python3.6/site-packages/sklearn/cross_validation.py:41: DeprecationWarning: This module was deprecated in version 0.18 in favor of the model_selection module into which all the refactored classes and functions are moved. Also note that the interface of the new CV iterators are different from that of this module. This module will be removed in 0.20.\n  \"This module will be removed in 0.20.\", DeprecationWarning)\n",
          "name": "stderr"
        },
        {
          "output_type": "stream",
          "text": "0.7695146958304853\n",
          "name": "stdout"
        }
      ]
    },
    {
      "metadata": {},
      "cell_type": "markdown",
      "source": "#### 11.3.2 Linear Discriminant Analysis\nLinear Discriminant Analysis or LDA is a statistical technique for binary and multiclass classification. It too assumes a Gaussian distribution for the numerical input variables."
    },
    {
      "metadata": {
        "trusted": true
      },
      "cell_type": "code",
      "source": "# LDA Classification\nimport pandas\nfrom sklearn import cross_validation\nfrom sklearn.discriminant_analysis import LinearDiscriminantAnalysis\nurl = \"http://ftp.ics.uci.edu/pub/machine-learning-databases/pima-indians-diabetes/pima-indians-diabetes.data\"\nnames=[\"preg\", \"plas\", \"pres\", \"skin\", \"test\", \"mass\", \"pedi\", \"age\", \"class\"] \ndataframe = pandas.read_csv(url, names=names)\narray = dataframe.values\nX = array[:,0:8]\nY = array[:,8]\n\nnum_folds = 10\nnum_instances = len(X)\nseed = 7\nkfold = cross_validation.KFold(n=num_instances, n_folds=num_folds, random_state=seed) \nmodel = LinearDiscriminantAnalysis()\nresults = cross_validation.cross_val_score(model, X, Y, cv=kfold) \nprint(results.mean())",
      "execution_count": 1,
      "outputs": [
        {
          "output_type": "stream",
          "text": "/home/nbuser/anaconda3_501/lib/python3.6/site-packages/sklearn/cross_validation.py:41: DeprecationWarning: This module was deprecated in version 0.18 in favor of the model_selection module into which all the refactored classes and functions are moved. Also note that the interface of the new CV iterators are different from that of this module. This module will be removed in 0.20.\n  \"This module will be removed in 0.20.\", DeprecationWarning)\n",
          "name": "stderr"
        },
        {
          "output_type": "stream",
          "text": "0.773462064251538\n",
          "name": "stdout"
        }
      ]
    },
    {
      "metadata": {},
      "cell_type": "markdown",
      "source": "### 11.4 Nonlinear Machine Learning Algorithms\n#### 11.4.1 K-Nearest Neighbors\nK-Nearest Neighbors (or KNN) uses a distance metric to find the K most similar instances in the training data for a new instance and takes the mean outcome of the neighbors as the prediction."
    },
    {
      "metadata": {
        "trusted": true
      },
      "cell_type": "code",
      "source": "# KNN Classification\nimport pandas\nfrom sklearn import cross_validation\nfrom sklearn.neighbors import KNeighborsClassifier\n\nurl = \"http://ftp.ics.uci.edu/pub/machine-learning-databases/pima-indians-diabetes/pima-indians-diabetes.data\"\nnames=[\"preg\", \"plas\", \"pres\", \"skin\", \"test\", \"mass\", \"pedi\", \"age\", \"class\"] \ndataframe = pandas.read_csv(url, names=names)\narray = dataframe.values\nX = array[:,0:8]\nY = array[:,8]\n\nnum_folds = 10\nnum_instances = len(X)\nrandom_state = 7\nkfold = cross_validation.KFold(n=num_instances, n_folds=num_folds,\n    random_state=random_state)\nmodel = KNeighborsClassifier()\nresults = cross_validation.cross_val_score(model, X, Y, cv=kfold)\nprint(results.mean())",
      "execution_count": 2,
      "outputs": [
        {
          "output_type": "stream",
          "text": "0.7265550239234451\n",
          "name": "stdout"
        }
      ]
    },
    {
      "metadata": {},
      "cell_type": "markdown",
      "source": "### 11.4.2 Naive Bayes\nNaive Bayes calculates the probability of each class and the conditional probability of each class given each input value. \n\nThese probabilities are estimated for new data and multiplied together, assuming that they are all independent (a simple or naive assumption). \n\nWhen working with real-valued data, a Gaussian distribution is assumed to easily estimate the probabilities for input variables using the Gaussian Probability Density Function. "
    },
    {
      "metadata": {
        "trusted": true
      },
      "cell_type": "code",
      "source": "# Gaussian Naive Bayes Classification\nimport pandas\nfrom sklearn import cross_validation\nfrom sklearn.naive_bayes import GaussianNB\nurl = \"http://ftp.ics.uci.edu/pub/machine-learning-databases/pima-indians-diabetes/pima-indians-diabetes.data\"\nnames=[\"preg\", \"plas\", \"pres\", \"skin\", \"test\", \"mass\", \"pedi\", \"age\", \"class\"] \ndataframe = pandas.read_csv(url, names=names)\narray = dataframe.values\nX = array[:,0:8]\nY = array[:,8]\nnum_folds = 10\nnum_instances = len(X)\nseed = 7\nkfold = cross_validation.KFold(n=num_instances, n_folds=num_folds, random_state=seed)\nmodel = GaussianNB()\nresults = cross_validation.cross_val_score(model, X, Y, cv=kfold)\nprint(results.mean())",
      "execution_count": 4,
      "outputs": [
        {
          "output_type": "stream",
          "text": "0.7551777170198223\n",
          "name": "stdout"
        }
      ]
    },
    {
      "metadata": {
        "trusted": true
      },
      "cell_type": "code",
      "source": "",
      "execution_count": null,
      "outputs": []
    }
  ],
  "metadata": {
    "kernelspec": {
      "name": "python36",
      "display_name": "Python 3.6",
      "language": "python"
    },
    "language_info": {
      "mimetype": "text/x-python",
      "nbconvert_exporter": "python",
      "name": "python",
      "pygments_lexer": "ipython3",
      "version": "3.6.6",
      "file_extension": ".py",
      "codemirror_mode": {
        "version": 3,
        "name": "ipython"
      }
    }
  },
  "nbformat": 4,
  "nbformat_minor": 2
}