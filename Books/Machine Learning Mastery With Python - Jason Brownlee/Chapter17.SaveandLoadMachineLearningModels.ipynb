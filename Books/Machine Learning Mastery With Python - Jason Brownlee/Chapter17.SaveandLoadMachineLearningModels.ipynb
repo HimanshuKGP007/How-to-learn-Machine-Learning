{
  "cells": [
    {
      "metadata": {
        "collapsed": true
      },
      "cell_type": "markdown",
      "source": "Finding an accurate machine learning model is not the end of the project. \n1. The importance of serializing models for reuse.\n2. How to use pickle to serialize and deserialize machine learning models.\n3. How to use joblib to serialize and deserialize machine learning models."
    },
    {
      "metadata": {
        "trusted": true
      },
      "cell_type": "code",
      "source": "",
      "execution_count": null,
      "outputs": []
    }
  ],
  "metadata": {
    "kernelspec": {
      "name": "python36",
      "display_name": "Python 3.6",
      "language": "python"
    },
    "language_info": {
      "mimetype": "text/x-python",
      "nbconvert_exporter": "python",
      "name": "python",
      "pygments_lexer": "ipython3",
      "version": "3.6.6",
      "file_extension": ".py",
      "codemirror_mode": {
        "version": 3,
        "name": "ipython"
      }
    }
  },
  "nbformat": 4,
  "nbformat_minor": 2
}