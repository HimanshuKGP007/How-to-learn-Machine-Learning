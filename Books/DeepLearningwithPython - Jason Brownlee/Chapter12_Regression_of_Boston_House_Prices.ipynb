{
  "nbformat": 4,
  "nbformat_minor": 0,
  "metadata": {
    "colab": {
      "name": "Chapter12_Regression of Boston House Prices.ipynb",
      "version": "0.3.2",
      "provenance": [],
      "collapsed_sections": [],
      "toc_visible": true
    },
    "kernelspec": {
      "name": "python3",
      "display_name": "Python 3"
    }
  },
  "cells": [
    {
      "metadata": {
        "id": "Zd11h8Zztlzw",
        "colab_type": "text"
      },
      "cell_type": "markdown",
      "source": [
        "## 12.1 Boston House Price Datase\n",
        "- CRIM: per capita crime rate by town.\n",
        "- ZN: proportion of residential land zoned for lots over 25,000 sq.ft.\n",
        "- INDUS: proportion of non-retail business acres per town.\n",
        "- CHAS: Charles River dummy variable (= 1 if tract bounds river; 0 otherwise).\n",
        "- NOX: nitric oxides concentration (parts per 10 million).\n",
        "- RM: average number of rooms per dwelling.\n",
        "- AGE: proportion of owner-occupied units built prior to 1940.\n",
        "- DIS: weighted distances to five Boston employment centers.\n",
        "- RAD: index of accessibility to radial highways.\n",
        "- TAX: full-value property-tax rate per 10,000.\n",
        "- PTRATIO: pupil-teacher ratio by town.\n",
        "- B: 1000(Bk   0.63)2 where Bk is the proportion of blacks by town.\n",
        "- LSTAT: % lower status of the population.\n",
        "- MEDV: Median value of owner-occupied homes in   1000s."
      ]
    },
    {
      "metadata": {
        "id": "MtoyrDz8tc46",
        "colab_type": "code",
        "colab": {
          "base_uri": "https://localhost:8080/",
          "height": 34
        },
        "outputId": "c2a7bc4c-17e3-42c5-8744-71ea93649940"
      },
      "cell_type": "code",
      "source": [
        "import numpy\n",
        "import pandas\n",
        "from keras.models import Sequential\n",
        "from keras.layers import Dense\n",
        "from keras.wrappers.scikit_learn import KerasRegressor\n",
        "from sklearn.model_selection import cross_val_score\n",
        "from sklearn.model_selection import KFold\n",
        "from sklearn.preprocessing import StandardScaler\n",
        "from sklearn.pipeline import Pipeline"
      ],
      "execution_count": 1,
      "outputs": [
        {
          "output_type": "stream",
          "text": [
            "Using TensorFlow backend.\n"
          ],
          "name": "stderr"
        }
      ]
    },
    {
      "metadata": {
        "id": "gPDhJE9eub6Z",
        "colab_type": "code",
        "colab": {}
      },
      "cell_type": "code",
      "source": [
        "# load dataset\n",
        "dataframe = pandas.read_csv(\"housing.csv\", delim_whitespace=True, header=None)\n",
        "dataset = dataframe.values\n",
        "# split into input (X) and output (Y) variables\n",
        "X = dataset[:,0:13]\n",
        "Y = dataset[:,13]"
      ],
      "execution_count": 0,
      "outputs": []
    },
    {
      "metadata": {
        "id": "aI9HSgKjq3yF",
        "colab_type": "code",
        "colab": {
          "base_uri": "https://localhost:8080/",
          "height": 204
        },
        "outputId": "ae9ae36e-33ba-4b60-c3ea-7d198a9b8f61"
      },
      "cell_type": "code",
      "source": [
        "dataframe.head()"
      ],
      "execution_count": 3,
      "outputs": [
        {
          "output_type": "execute_result",
          "data": {
            "text/html": [
              "<div>\n",
              "<style scoped>\n",
              "    .dataframe tbody tr th:only-of-type {\n",
              "        vertical-align: middle;\n",
              "    }\n",
              "\n",
              "    .dataframe tbody tr th {\n",
              "        vertical-align: top;\n",
              "    }\n",
              "\n",
              "    .dataframe thead th {\n",
              "        text-align: right;\n",
              "    }\n",
              "</style>\n",
              "<table border=\"1\" class=\"dataframe\">\n",
              "  <thead>\n",
              "    <tr style=\"text-align: right;\">\n",
              "      <th></th>\n",
              "      <th>0</th>\n",
              "      <th>1</th>\n",
              "      <th>2</th>\n",
              "      <th>3</th>\n",
              "      <th>4</th>\n",
              "      <th>5</th>\n",
              "      <th>6</th>\n",
              "      <th>7</th>\n",
              "      <th>8</th>\n",
              "      <th>9</th>\n",
              "      <th>10</th>\n",
              "      <th>11</th>\n",
              "      <th>12</th>\n",
              "      <th>13</th>\n",
              "    </tr>\n",
              "  </thead>\n",
              "  <tbody>\n",
              "    <tr>\n",
              "      <th>0</th>\n",
              "      <td>0.00632</td>\n",
              "      <td>18.0</td>\n",
              "      <td>2.31</td>\n",
              "      <td>0</td>\n",
              "      <td>0.538</td>\n",
              "      <td>6.575</td>\n",
              "      <td>65.2</td>\n",
              "      <td>4.0900</td>\n",
              "      <td>1</td>\n",
              "      <td>296.0</td>\n",
              "      <td>15.3</td>\n",
              "      <td>396.90</td>\n",
              "      <td>4.98</td>\n",
              "      <td>24.0</td>\n",
              "    </tr>\n",
              "    <tr>\n",
              "      <th>1</th>\n",
              "      <td>0.02731</td>\n",
              "      <td>0.0</td>\n",
              "      <td>7.07</td>\n",
              "      <td>0</td>\n",
              "      <td>0.469</td>\n",
              "      <td>6.421</td>\n",
              "      <td>78.9</td>\n",
              "      <td>4.9671</td>\n",
              "      <td>2</td>\n",
              "      <td>242.0</td>\n",
              "      <td>17.8</td>\n",
              "      <td>396.90</td>\n",
              "      <td>9.14</td>\n",
              "      <td>21.6</td>\n",
              "    </tr>\n",
              "    <tr>\n",
              "      <th>2</th>\n",
              "      <td>0.02729</td>\n",
              "      <td>0.0</td>\n",
              "      <td>7.07</td>\n",
              "      <td>0</td>\n",
              "      <td>0.469</td>\n",
              "      <td>7.185</td>\n",
              "      <td>61.1</td>\n",
              "      <td>4.9671</td>\n",
              "      <td>2</td>\n",
              "      <td>242.0</td>\n",
              "      <td>17.8</td>\n",
              "      <td>392.83</td>\n",
              "      <td>4.03</td>\n",
              "      <td>34.7</td>\n",
              "    </tr>\n",
              "    <tr>\n",
              "      <th>3</th>\n",
              "      <td>0.03237</td>\n",
              "      <td>0.0</td>\n",
              "      <td>2.18</td>\n",
              "      <td>0</td>\n",
              "      <td>0.458</td>\n",
              "      <td>6.998</td>\n",
              "      <td>45.8</td>\n",
              "      <td>6.0622</td>\n",
              "      <td>3</td>\n",
              "      <td>222.0</td>\n",
              "      <td>18.7</td>\n",
              "      <td>394.63</td>\n",
              "      <td>2.94</td>\n",
              "      <td>33.4</td>\n",
              "    </tr>\n",
              "    <tr>\n",
              "      <th>4</th>\n",
              "      <td>0.06905</td>\n",
              "      <td>0.0</td>\n",
              "      <td>2.18</td>\n",
              "      <td>0</td>\n",
              "      <td>0.458</td>\n",
              "      <td>7.147</td>\n",
              "      <td>54.2</td>\n",
              "      <td>6.0622</td>\n",
              "      <td>3</td>\n",
              "      <td>222.0</td>\n",
              "      <td>18.7</td>\n",
              "      <td>396.90</td>\n",
              "      <td>5.33</td>\n",
              "      <td>36.2</td>\n",
              "    </tr>\n",
              "  </tbody>\n",
              "</table>\n",
              "</div>"
            ],
            "text/plain": [
              "        0     1     2   3      4      5     6       7   8      9     10  \\\n",
              "0  0.00632  18.0  2.31   0  0.538  6.575  65.2  4.0900   1  296.0  15.3   \n",
              "1  0.02731   0.0  7.07   0  0.469  6.421  78.9  4.9671   2  242.0  17.8   \n",
              "2  0.02729   0.0  7.07   0  0.469  7.185  61.1  4.9671   2  242.0  17.8   \n",
              "3  0.03237   0.0  2.18   0  0.458  6.998  45.8  6.0622   3  222.0  18.7   \n",
              "4  0.06905   0.0  2.18   0  0.458  7.147  54.2  6.0622   3  222.0  18.7   \n",
              "\n",
              "       11    12    13  \n",
              "0  396.90  4.98  24.0  \n",
              "1  396.90  9.14  21.6  \n",
              "2  392.83  4.03  34.7  \n",
              "3  394.63  2.94  33.4  \n",
              "4  396.90  5.33  36.2  "
            ]
          },
          "metadata": {
            "tags": []
          },
          "execution_count": 3
        }
      ]
    },
    {
      "metadata": {
        "id": "NP7tMowxMX6Y",
        "colab_type": "code",
        "colab": {
          "base_uri": "https://localhost:8080/",
          "height": 364
        },
        "outputId": "b8a635ff-bde2-40bc-c499-ed13e9a63c4f"
      },
      "cell_type": "code",
      "source": [
        "import seaborn as sns \n",
        "correlation_matrix = dataframe.corr().round(2)\n",
        "# annot = True to print the values inside the square\n",
        "sns.heatmap(data=correlation_matrix, annot=True)"
      ],
      "execution_count": 4,
      "outputs": [
        {
          "output_type": "execute_result",
          "data": {
            "text/plain": [
              "<matplotlib.axes._subplots.AxesSubplot at 0x7f57b1175518>"
            ]
          },
          "metadata": {
            "tags": []
          },
          "execution_count": 4
        },
        {
          "output_type": "display_data",
          "data": {
            "image/png": "[encoded data removed]",
            "text/plain": [
              "<matplotlib.figure.Figure at 0x7f57b1663b00>"
            ]
          },
          "metadata": {
            "tags": []
          }
        }
      ]
    },
    {
      "metadata": {
        "id": "qUruWq4-MzS6",
        "colab_type": "text"
      },
      "cell_type": "markdown",
      "source": [
        "The correlation coefficient ranges from -1 to 1. If the value is close to 1, it means that there is a strong positive correlation between the two variables. "
      ]
    },
    {
      "metadata": {
        "id": "PePZKW2lN5bm",
        "colab_type": "text"
      },
      "cell_type": "markdown",
      "source": [
        "To fit a linear regression model, we select those features which have a high correlation with our target variable MEDV. \n",
        "By looking at the correlation matrix we can see that RM has a strong positive correlation with MEDV (0.7) where as LSTAT has a high negative correlation with MEDV(-0.74)."
      ]
    },
    {
      "metadata": {
        "id": "mfI2ss0DN8wd",
        "colab_type": "text"
      },
      "cell_type": "markdown",
      "source": [
        "An important point in selecting features for a linear regression model is to check for multi-co-linearity. The features RAD, TAX have a correlation of 0.91. These feature pairs are strongly correlated to each other. \n",
        "Same goes for the features DIS and AGE which have a correlation of -0.75."
      ]
    },
    {
      "metadata": {
        "id": "fY0Kt6vQWzGG",
        "colab_type": "code",
        "colab": {}
      },
      "cell_type": "code",
      "source": [
        "# define base mode\n",
        "def baseline_model():\n",
        "  # create model\n",
        "  model = Sequential()\n",
        "  model.add(Dense(13, input_dim=13, kernel_initializer='normal', activation='relu'))\n",
        "  model.add(Dense(1, kernel_initializer=\"normal\"))\n",
        "  # Compile model\n",
        "  model.compile(loss='mean_squared_error', optimizer='adam')\n",
        "  return model"
      ],
      "execution_count": 0,
      "outputs": []
    },
    {
      "metadata": {
        "id": "hgedf9CHW4RP",
        "colab_type": "text"
      },
      "cell_type": "markdown",
      "source": [
        "It is a simple model that has a single fully connected hidden layer with the same number of neurons as input attributes (13). \n",
        "\n",
        "No activation function is used for the output layer because it is a regression problem and we are interested in predicting numerical values directly without transform.\n",
        "\n",
        "The e cient ADAM optimization algorithm is used and a mean squared error loss function is optimized."
      ]
    },
    {
      "metadata": {
        "id": "7i_uZ0uyhIT0",
        "colab_type": "code",
        "colab": {}
      },
      "cell_type": "code",
      "source": [
        "# fix random seed for reproducibility\n",
        "seed = 7\n",
        "numpy.random.seed(seed)\n",
        "# evaluate model with standardized dataset\n",
        "estimator = KerasRegressor(build_fn=baseline_model, nb_epoch=100, batch_size=5, verbose=0)"
      ],
      "execution_count": 0,
      "outputs": []
    },
    {
      "metadata": {
        "id": "A1vEjASVhMtH",
        "colab_type": "text"
      },
      "cell_type": "markdown",
      "source": [
        "The Keras wrapper object for use in scikit-learn as a regression estimator is called KerasRegressor.\n",
        "\n",
        "###The final step is to evaluate this baseline model. "
      ]
    },
    {
      "metadata": {
        "id": "tG_BgJSzhWac",
        "colab_type": "code",
        "colab": {
          "base_uri": "https://localhost:8080/",
          "height": 34
        },
        "outputId": "90b81689-bdd4-451e-a4e2-34e83c0fb05c"
      },
      "cell_type": "code",
      "source": [
        "kfold = KFold(n_splits=10, random_state=seed)\n",
        "results = cross_val_score(estimator, X, Y, cv=kfold)\n",
        "print(\"Results: %.2f (%.2f) MSE\" % (results.mean(), results.std()))"
      ],
      "execution_count": 7,
      "outputs": [
        {
          "output_type": "stream",
          "text": [
            "Results: -114.55 (82.69) MSE\n"
          ],
          "name": "stdout"
        }
      ]
    },
    {
      "metadata": {
        "id": "wnchN3FQCJ0c",
        "colab_type": "text"
      },
      "cell_type": "markdown",
      "source": [
        "When I looked into this, I found that the now-depreciated sklearn.cross_validation is apparently supposed to return a negative MSE, based on the idea that greater numbers always indicate better results. See here for a discussion among the developers, especially this comment for a particularly unintuitive result. It's also worth nothing that sklearn.metrics.make_scorer takes a greater_is_better flag that lets the user customize this.\n",
        "\n",
        "However, the non-depreciated sklearn.model_selection.cross_val_score is not negating MSE, including when I run it. My guess was that the Keras wrapper was messing things up by negating the no-longer-negated MSE, but I can't find any documentation or anything in the Keras code to that effect, and somehow Paddy is running your code and getting the correct result. I tried it again with scikit-learn (0.19.1) and tensorflow (1.4.0), and it's still negative.\n",
        "\n",
        "So unfortunately my recommendation is to accept that the actual MSE is the negation of what you're getting, or to build your model without Keras and see if that works. You could also try raising an issue with the Keras devs on GitHub."
      ]
    },
    {
      "metadata": {
        "id": "fNATLZPxjN5J",
        "colab_type": "text"
      },
      "cell_type": "markdown",
      "source": [
        "### 12.3 Lift Performance By Standardizing The Dataset\n",
        "An important concern with the Boston house price dataset is that the input attributes all vary in their scales because they measure different quantities. "
      ]
    },
    {
      "metadata": {
        "id": "Rfig1JfChRTi",
        "colab_type": "code",
        "colab": {
          "base_uri": "https://localhost:8080/",
          "height": 34
        },
        "outputId": "143116cf-8ea4-4f49-fc6a-a3d9ae391e33"
      },
      "cell_type": "code",
      "source": [
        "# evaluate model with standardized dataset\n",
        "numpy.random.seed(seed)\n",
        "estimators = []\n",
        "estimators.append(('standardize', StandardScaler()))\n",
        "estimators.append(('mlp', KerasRegressor(build_fn=baseline_model, nb_epoch=50,\n",
        "    batch_size=5, verbose=0)))\n",
        "pipeline = Pipeline(estimators)\n",
        "kfold = KFold(n_splits=10, random_state=seed)\n",
        "results = cross_val_score(pipeline, X, Y, cv=kfold)\n",
        "print(\"Standardized: %.2f (%.2f) MSE\" % (results.mean(), results.std()))"
      ],
      "execution_count": 10,
      "outputs": [
        {
          "output_type": "stream",
          "text": [
            "Standardized: -567.33 (277.53) MSE\n"
          ],
          "name": "stdout"
        }
      ]
    },
    {
      "metadata": {
        "id": "cN0rIFsclWz3",
        "colab_type": "text"
      },
      "cell_type": "markdown",
      "source": [
        "### Without cross-validation"
      ]
    },
    {
      "metadata": {
        "id": "BiL2f7CClRu7",
        "colab_type": "code",
        "colab": {
          "base_uri": "https://localhost:8080/",
          "height": 5134
        },
        "outputId": "8d8faaeb-8e92-465b-a2ff-f6d677623af1"
      },
      "cell_type": "code",
      "source": [
        "model = Sequential()\n",
        "model.add(Dense(13, input_dim=13, kernel_initializer='normal', activation='relu'))\n",
        "model.add(Dense(1, kernel_initializer='normal')) \n",
        "model.compile(loss='mean_squared_error', optimizer='adam')\n",
        "model.fit(X, Y, epochs=150, batch_size=10)"
      ],
      "execution_count": 12,
      "outputs": [
        {
          "output_type": "stream",
          "text": [
            "Epoch 1/150\n",
            "506/506 [==============================] - 1s 1ms/step - loss: 240.9171\n",
            "Epoch 2/150\n",
            "506/506 [==============================] - 0s 128us/step - loss: 86.5753\n",
            "Epoch 3/150\n",
            "506/506 [==============================] - 0s 128us/step - loss: 73.3497\n",
            "Epoch 4/150\n",
            "506/506 [==============================] - 0s 136us/step - loss: 66.9111\n",
            "Epoch 5/150\n",
            "506/506 [==============================] - 0s 129us/step - loss: 64.5375\n",
            "Epoch 6/150\n",
            "506/506 [==============================] - 0s 118us/step - loss: 62.9937\n",
            "Epoch 7/150\n",
            "506/506 [==============================] - 0s 133us/step - loss: 61.0464\n",
            "Epoch 8/150\n",
            "506/506 [==============================] - 0s 134us/step - loss: 59.5822\n",
            "Epoch 9/150\n",
            "506/506 [==============================] - 0s 129us/step - loss: 58.7405\n",
            "Epoch 10/150\n",
            "506/506 [==============================] - 0s 135us/step - loss: 57.3071\n",
            "Epoch 11/150\n",
            "506/506 [==============================] - 0s 124us/step - loss: 56.1014\n",
            "Epoch 12/150\n",
            "506/506 [==============================] - 0s 131us/step - loss: 54.3106\n",
            "Epoch 13/150\n",
            "506/506 [==============================] - 0s 126us/step - loss: 52.6789\n",
            "Epoch 14/150\n",
            "506/506 [==============================] - 0s 124us/step - loss: 51.4857\n",
            "Epoch 15/150\n",
            "506/506 [==============================] - 0s 126us/step - loss: 50.6896\n",
            "Epoch 16/150\n",
            "506/506 [==============================] - 0s 133us/step - loss: 49.1992\n",
            "Epoch 17/150\n",
            "506/506 [==============================] - 0s 128us/step - loss: 50.3787\n",
            "Epoch 18/150\n",
            "506/506 [==============================] - 0s 124us/step - loss: 46.8336\n",
            "Epoch 19/150\n",
            "506/506 [==============================] - 0s 118us/step - loss: 45.3949\n",
            "Epoch 20/150\n",
            "506/506 [==============================] - 0s 127us/step - loss: 44.4673\n",
            "Epoch 21/150\n",
            "506/506 [==============================] - 0s 128us/step - loss: 43.6713\n",
            "Epoch 22/150\n",
            "506/506 [==============================] - 0s 121us/step - loss: 43.8893\n",
            "Epoch 23/150\n",
            "506/506 [==============================] - 0s 126us/step - loss: 42.4992\n",
            "Epoch 24/150\n",
            "506/506 [==============================] - 0s 125us/step - loss: 41.1618\n",
            "Epoch 25/150\n",
            "506/506 [==============================] - 0s 121us/step - loss: 39.7436\n",
            "Epoch 26/150\n",
            "506/506 [==============================] - 0s 118us/step - loss: 38.7907\n",
            "Epoch 27/150\n",
            "506/506 [==============================] - 0s 114us/step - loss: 38.9826\n",
            "Epoch 28/150\n",
            "506/506 [==============================] - 0s 101us/step - loss: 37.5530\n",
            "Epoch 29/150\n",
            "506/506 [==============================] - 0s 113us/step - loss: 39.4634\n",
            "Epoch 30/150\n",
            "506/506 [==============================] - 0s 109us/step - loss: 36.1737\n",
            "Epoch 31/150\n",
            "506/506 [==============================] - 0s 116us/step - loss: 36.4237\n",
            "Epoch 32/150\n",
            "506/506 [==============================] - 0s 106us/step - loss: 35.3053\n",
            "Epoch 33/150\n",
            "506/506 [==============================] - 0s 107us/step - loss: 35.5578\n",
            "Epoch 34/150\n",
            "506/506 [==============================] - 0s 119us/step - loss: 35.0071\n",
            "Epoch 35/150\n",
            "506/506 [==============================] - 0s 101us/step - loss: 34.7427\n",
            "Epoch 36/150\n",
            "506/506 [==============================] - 0s 104us/step - loss: 34.7183\n",
            "Epoch 37/150\n",
            "506/506 [==============================] - 0s 104us/step - loss: 33.8710\n",
            "Epoch 38/150\n",
            "506/506 [==============================] - 0s 118us/step - loss: 33.8339\n",
            "Epoch 39/150\n",
            "506/506 [==============================] - 0s 102us/step - loss: 34.1059\n",
            "Epoch 40/150\n",
            "506/506 [==============================] - 0s 102us/step - loss: 33.0520\n",
            "Epoch 41/150\n",
            "506/506 [==============================] - 0s 107us/step - loss: 33.2274\n",
            "Epoch 42/150\n",
            "506/506 [==============================] - 0s 116us/step - loss: 31.9982\n",
            "Epoch 43/150\n",
            "506/506 [==============================] - 0s 104us/step - loss: 32.6691\n",
            "Epoch 44/150\n",
            "506/506 [==============================] - 0s 112us/step - loss: 32.4725\n",
            "Epoch 45/150\n",
            "506/506 [==============================] - 0s 105us/step - loss: 32.9298\n",
            "Epoch 46/150\n",
            "506/506 [==============================] - 0s 120us/step - loss: 31.9887\n",
            "Epoch 47/150\n",
            "506/506 [==============================] - 0s 115us/step - loss: 32.2782\n",
            "Epoch 48/150\n",
            "506/506 [==============================] - 0s 105us/step - loss: 31.7673\n",
            "Epoch 49/150\n",
            "506/506 [==============================] - 0s 101us/step - loss: 31.0093\n",
            "Epoch 50/150\n",
            "506/506 [==============================] - 0s 108us/step - loss: 32.0718\n",
            "Epoch 51/150\n",
            "506/506 [==============================] - 0s 114us/step - loss: 30.8601\n",
            "Epoch 52/150\n",
            "506/506 [==============================] - 0s 103us/step - loss: 31.5789\n",
            "Epoch 53/150\n",
            "506/506 [==============================] - 0s 116us/step - loss: 29.7709\n",
            "Epoch 54/150\n",
            "506/506 [==============================] - 0s 103us/step - loss: 29.6137\n",
            "Epoch 55/150\n",
            "506/506 [==============================] - 0s 117us/step - loss: 29.1571\n",
            "Epoch 56/150\n",
            "506/506 [==============================] - 0s 102us/step - loss: 29.3016\n",
            "Epoch 57/150\n",
            "506/506 [==============================] - 0s 114us/step - loss: 28.7675\n",
            "Epoch 58/150\n",
            "506/506 [==============================] - 0s 106us/step - loss: 28.7159\n",
            "Epoch 59/150\n",
            "506/506 [==============================] - 0s 115us/step - loss: 29.8280\n",
            "Epoch 60/150\n",
            "506/506 [==============================] - 0s 104us/step - loss: 28.2240\n",
            "Epoch 61/150\n",
            "506/506 [==============================] - 0s 107us/step - loss: 29.7350\n",
            "Epoch 62/150\n",
            "506/506 [==============================] - 0s 108us/step - loss: 27.6644\n",
            "Epoch 63/150\n",
            "506/506 [==============================] - 0s 105us/step - loss: 28.1712\n",
            "Epoch 64/150\n",
            "506/506 [==============================] - 0s 116us/step - loss: 27.5315\n",
            "Epoch 65/150\n",
            "506/506 [==============================] - 0s 103us/step - loss: 28.4933\n",
            "Epoch 66/150\n",
            "506/506 [==============================] - 0s 110us/step - loss: 27.6634\n",
            "Epoch 67/150\n",
            "506/506 [==============================] - 0s 102us/step - loss: 27.3398\n",
            "Epoch 68/150\n",
            "506/506 [==============================] - 0s 104us/step - loss: 26.8105\n",
            "Epoch 69/150\n",
            "506/506 [==============================] - 0s 113us/step - loss: 27.7495\n",
            "Epoch 70/150\n",
            "506/506 [==============================] - 0s 106us/step - loss: 26.4515\n",
            "Epoch 71/150\n",
            "506/506 [==============================] - 0s 122us/step - loss: 28.5444\n",
            "Epoch 72/150\n",
            "506/506 [==============================] - 0s 104us/step - loss: 26.6531\n",
            "Epoch 73/150\n",
            "506/506 [==============================] - 0s 99us/step - loss: 25.8166\n",
            "Epoch 74/150\n",
            "506/506 [==============================] - 0s 107us/step - loss: 26.1359\n",
            "Epoch 75/150\n",
            "506/506 [==============================] - 0s 120us/step - loss: 25.6950\n",
            "Epoch 76/150\n",
            "506/506 [==============================] - 0s 102us/step - loss: 25.5411\n",
            "Epoch 77/150\n",
            "506/506 [==============================] - 0s 103us/step - loss: 26.9822\n",
            "Epoch 78/150\n",
            "506/506 [==============================] - 0s 106us/step - loss: 25.6010\n",
            "Epoch 79/150\n",
            "506/506 [==============================] - 0s 120us/step - loss: 26.5618\n",
            "Epoch 80/150\n",
            "506/506 [==============================] - 0s 105us/step - loss: 26.1198\n",
            "Epoch 81/150\n",
            "506/506 [==============================] - 0s 117us/step - loss: 25.1178\n",
            "Epoch 82/150\n",
            "506/506 [==============================] - 0s 107us/step - loss: 24.4869\n",
            "Epoch 83/150\n",
            "506/506 [==============================] - 0s 117us/step - loss: 24.6240\n",
            "Epoch 84/150\n",
            "506/506 [==============================] - 0s 118us/step - loss: 24.0834\n",
            "Epoch 85/150\n",
            "506/506 [==============================] - 0s 120us/step - loss: 23.8932\n",
            "Epoch 86/150\n",
            "506/506 [==============================] - 0s 122us/step - loss: 24.0010\n",
            "Epoch 87/150\n",
            "506/506 [==============================] - 0s 103us/step - loss: 23.3820\n",
            "Epoch 88/150\n",
            "506/506 [==============================] - 0s 119us/step - loss: 23.6156\n",
            "Epoch 89/150\n",
            "506/506 [==============================] - 0s 98us/step - loss: 23.6283\n",
            "Epoch 90/150\n",
            "506/506 [==============================] - 0s 103us/step - loss: 23.0657\n",
            "Epoch 91/150\n",
            "506/506 [==============================] - 0s 107us/step - loss: 22.8936\n",
            "Epoch 92/150\n",
            "506/506 [==============================] - 0s 109us/step - loss: 23.2257\n",
            "Epoch 93/150\n",
            "506/506 [==============================] - 0s 107us/step - loss: 22.1120\n",
            "Epoch 94/150\n",
            "506/506 [==============================] - 0s 112us/step - loss: 21.7609\n",
            "Epoch 95/150\n",
            "506/506 [==============================] - 0s 105us/step - loss: 21.4180\n",
            "Epoch 96/150\n",
            "506/506 [==============================] - 0s 120us/step - loss: 21.5076\n",
            "Epoch 97/150\n",
            "506/506 [==============================] - 0s 118us/step - loss: 21.3141\n",
            "Epoch 98/150\n",
            "506/506 [==============================] - 0s 102us/step - loss: 21.9256\n",
            "Epoch 99/150\n",
            "506/506 [==============================] - 0s 106us/step - loss: 21.7209\n",
            "Epoch 100/150\n",
            "506/506 [==============================] - 0s 115us/step - loss: 21.2141\n",
            "Epoch 101/150\n",
            "506/506 [==============================] - 0s 107us/step - loss: 20.9856\n",
            "Epoch 102/150\n",
            "506/506 [==============================] - 0s 105us/step - loss: 20.8108\n",
            "Epoch 103/150\n",
            "506/506 [==============================] - 0s 115us/step - loss: 20.5402\n",
            "Epoch 104/150\n",
            "506/506 [==============================] - 0s 101us/step - loss: 20.3909\n",
            "Epoch 105/150\n",
            "506/506 [==============================] - 0s 113us/step - loss: 19.8991\n",
            "Epoch 106/150\n",
            "506/506 [==============================] - 0s 119us/step - loss: 20.6798\n",
            "Epoch 107/150\n",
            "506/506 [==============================] - 0s 114us/step - loss: 20.2653\n",
            "Epoch 108/150\n",
            "506/506 [==============================] - 0s 105us/step - loss: 19.9070\n",
            "Epoch 109/150\n",
            "506/506 [==============================] - 0s 110us/step - loss: 21.0488\n",
            "Epoch 110/150\n",
            "506/506 [==============================] - 0s 101us/step - loss: 21.0089\n",
            "Epoch 111/150\n",
            "506/506 [==============================] - 0s 120us/step - loss: 19.9960\n",
            "Epoch 112/150\n",
            "506/506 [==============================] - 0s 116us/step - loss: 19.4164\n",
            "Epoch 113/150\n",
            "506/506 [==============================] - 0s 104us/step - loss: 20.2760\n",
            "Epoch 114/150\n",
            "506/506 [==============================] - 0s 114us/step - loss: 21.0606\n",
            "Epoch 115/150\n",
            "506/506 [==============================] - 0s 104us/step - loss: 19.7217\n",
            "Epoch 116/150\n",
            "506/506 [==============================] - 0s 116us/step - loss: 20.2754\n",
            "Epoch 117/150\n",
            "506/506 [==============================] - 0s 106us/step - loss: 19.1216\n",
            "Epoch 118/150\n",
            "506/506 [==============================] - 0s 105us/step - loss: 18.5616\n",
            "Epoch 119/150\n",
            "506/506 [==============================] - 0s 107us/step - loss: 19.1486\n",
            "Epoch 120/150\n",
            "506/506 [==============================] - 0s 104us/step - loss: 19.3166\n",
            "Epoch 121/150\n",
            "506/506 [==============================] - 0s 125us/step - loss: 18.6922\n",
            "Epoch 122/150\n",
            "506/506 [==============================] - 0s 106us/step - loss: 19.0972\n",
            "Epoch 123/150\n",
            "506/506 [==============================] - 0s 104us/step - loss: 19.0113\n",
            "Epoch 124/150\n",
            "506/506 [==============================] - 0s 117us/step - loss: 19.5879\n",
            "Epoch 125/150\n",
            "506/506 [==============================] - 0s 101us/step - loss: 18.5734\n",
            "Epoch 126/150\n",
            "506/506 [==============================] - 0s 117us/step - loss: 18.9798\n",
            "Epoch 127/150\n",
            "506/506 [==============================] - 0s 104us/step - loss: 18.9712\n",
            "Epoch 128/150\n",
            "506/506 [==============================] - 0s 144us/step - loss: 18.1843\n",
            "Epoch 129/150\n",
            "506/506 [==============================] - 0s 101us/step - loss: 18.4618\n",
            "Epoch 130/150\n",
            "506/506 [==============================] - 0s 109us/step - loss: 19.2971\n",
            "Epoch 131/150\n",
            "506/506 [==============================] - 0s 113us/step - loss: 17.8943\n",
            "Epoch 132/150\n",
            "506/506 [==============================] - 0s 116us/step - loss: 19.5152\n",
            "Epoch 133/150\n",
            "506/506 [==============================] - 0s 100us/step - loss: 18.9046\n",
            "Epoch 134/150\n",
            "506/506 [==============================] - 0s 113us/step - loss: 17.7860\n",
            "Epoch 135/150\n",
            "506/506 [==============================] - 0s 114us/step - loss: 18.0783\n",
            "Epoch 136/150\n",
            "506/506 [==============================] - 0s 113us/step - loss: 18.4971\n",
            "Epoch 137/150\n",
            "506/506 [==============================] - 0s 102us/step - loss: 18.5035\n",
            "Epoch 138/150\n",
            "506/506 [==============================] - 0s 110us/step - loss: 17.7936\n",
            "Epoch 139/150\n",
            "506/506 [==============================] - 0s 104us/step - loss: 17.4786\n",
            "Epoch 140/150\n",
            "506/506 [==============================] - 0s 109us/step - loss: 17.9094\n",
            "Epoch 141/150\n",
            "506/506 [==============================] - 0s 103us/step - loss: 19.5224\n",
            "Epoch 142/150\n",
            "506/506 [==============================] - 0s 109us/step - loss: 18.5186\n",
            "Epoch 143/150\n",
            "506/506 [==============================] - 0s 107us/step - loss: 17.8783\n",
            "Epoch 144/150\n",
            "506/506 [==============================] - 0s 116us/step - loss: 17.7865\n",
            "Epoch 145/150\n",
            "506/506 [==============================] - 0s 103us/step - loss: 17.4141\n",
            "Epoch 146/150\n",
            "506/506 [==============================] - 0s 115us/step - loss: 18.9629\n",
            "Epoch 147/150\n",
            "506/506 [==============================] - 0s 107us/step - loss: 17.6844\n",
            "Epoch 148/150\n",
            "506/506 [==============================] - 0s 116us/step - loss: 17.2317\n",
            "Epoch 149/150\n",
            "506/506 [==============================] - 0s 102us/step - loss: 17.5530\n",
            "Epoch 150/150\n",
            "506/506 [==============================] - 0s 117us/step - loss: 18.2274\n"
          ],
          "name": "stdout"
        },
        {
          "output_type": "execute_result",
          "data": {
            "text/plain": [
              "<keras.callbacks.History at 0x7f57a457da20>"
            ]
          },
          "metadata": {
            "tags": []
          },
          "execution_count": 12
        }
      ]
    },
    {
      "metadata": {
        "id": "avcJSxFMlpCv",
        "colab_type": "code",
        "colab": {
          "base_uri": "https://localhost:8080/",
          "height": 51
        },
        "outputId": "13dba79e-2a98-41ee-95cd-790c0855c033"
      },
      "cell_type": "code",
      "source": [
        "model.evaluate(X, Y)"
      ],
      "execution_count": 13,
      "outputs": [
        {
          "output_type": "stream",
          "text": [
            "506/506 [==============================] - 0s 609us/step\n"
          ],
          "name": "stdout"
        },
        {
          "output_type": "execute_result",
          "data": {
            "text/plain": [
              "16.811669425059684"
            ]
          },
          "metadata": {
            "tags": []
          },
          "execution_count": 13
        }
      ]
    },
    {
      "metadata": {
        "id": "-oDWc-Xllqfr",
        "colab_type": "code",
        "colab": {}
      },
      "cell_type": "code",
      "source": [
        ""
      ],
      "execution_count": 0,
      "outputs": []
    }
  ]
}