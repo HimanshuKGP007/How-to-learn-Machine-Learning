{
 "cells": [
  {
   "cell_type": "markdown",
   "metadata": {
    "collapsed": true
   },
   "source": [
    "- How to load training data and make it available to Keras.\n",
    "- How to design and train a neural network for tabular data.\n",
    "- How to evaluate the performance of a neural network model in Keras on unseen data.\n",
    "- How to perform data preparation to improve skill when using neural networks.\n",
    "-  How to tune the topology and configuration of neural networks in Keras."
   ]
  },
  {
   "cell_type": "markdown",
   "metadata": {},
   "source": []
  }
 ],
 "metadata": {
  "kernelspec": {
   "display_name": "Python 3",
   "language": "python",
   "name": "python3"
  },
  "language_info": {
   "codemirror_mode": {
    "name": "ipython",
    "version": 3
   },
   "file_extension": ".py",
   "mimetype": "text/x-python",
   "name": "python",
   "nbconvert_exporter": "python",
   "pygments_lexer": "ipython3",
   "version": "3.6.3"
  }
 },
 "nbformat": 4,
 "nbformat_minor": 2
}
