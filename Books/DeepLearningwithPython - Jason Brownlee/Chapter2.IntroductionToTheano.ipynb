{
  "cells": [
    {
      "metadata": {
        "collapsed": true
      },
      "cell_type": "markdown",
      "source": "Date:218/11/19\nTheano is a Python library for fast numerical computation that can be run on the CPU or GPU.\n### 2.1 What is Theano?\n\nTheano is an open source project released under the BSD license and was developed at the University of Montreal, Quebec, Canada.\nAt it’s heart Theano is a compiler for mathematical expressions in Python. \n\n### 2.3 Simple Theano Example\nIn this example we define two symbolic floating point variables a and b. We define an expression that uses these variables (c = a + b). "
    },
    {
      "metadata": {
        "trusted": true
      },
      "cell_type": "code",
      "source": "import theano\nfrom theano import tensor\n# declare two symbolic floating-point scalars\na = tensor.dscalar()\nb = tensor.dscalar()\n# create a simple symbolic expression\nc=a+b\n# convert the expression into a callable object that takes (a,b) and computes c \nf = theano.function([a,b], c)\n  # bind 1.5 to 'a', 2.5 to 'b', and evaluate 'c' \nresult = f(1.5, 2.5)\nprint(result)",
      "execution_count": 3,
      "outputs": [
        {
          "output_type": "stream",
          "text": "4.0\n",
          "name": "stdout"
        }
      ]
    },
    {
      "metadata": {},
      "cell_type": "markdown",
      "source": "Running the example prints the output 4, which matches our expectation that 1.5+2.5 = 4.0.\nYou can see how this may be scaled up to large vector and matrix operations required for deep learning."
    },
    {
      "metadata": {},
      "cell_type": "markdown",
      "source": ""
    }
  ],
  "metadata": {
    "kernelspec": {
      "name": "python36",
      "display_name": "Python 3.6",
      "language": "python"
    },
    "language_info": {
      "mimetype": "text/x-python",
      "nbconvert_exporter": "python",
      "name": "python",
      "pygments_lexer": "ipython3",
      "version": "3.6.6",
      "file_extension": ".py",
      "codemirror_mode": {
        "version": 3,
        "name": "ipython"
      }
    }
  },
  "nbformat": 4,
  "nbformat_minor": 2
}