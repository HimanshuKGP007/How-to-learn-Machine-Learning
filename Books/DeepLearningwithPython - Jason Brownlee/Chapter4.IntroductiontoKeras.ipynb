{
  "cells": [
    {
      "metadata": {
        "collapsed": true
      },
      "cell_type": "markdown",
      "source": "Theano and TensorFlow are very powerful libraries, but both can be difficult to use directly for creating deep learning models.\n#### 4.1 What is Keras?\nKeras is a minimalist Python library for deep learning that can run on top of Theano or TensorFlow. \n- Modularity: A model can be understood as a sequence or a graph alone.\n- Minimalism: The library provides just enough to achieve an outcome, no frills and maximizing readability.\n- Extensibility: New components are intentionally easy to add and use within the frame- work, intended for developers to trial and explore new ideas.\n- Python: No separate model files with custom file formats. Everything is native Python"
    },
    {
      "metadata": {},
      "cell_type": "markdown",
      "source": "#### 4.3 Theano and TensorFlow Backends for Keras\n\nKeras is a lightweight API and rather than providing an implementation of the required mathematical operations needed for deep learning it provides a consistent interface to efficient numerical libraries called backends.\n\nThe easiest way is by adding or editing the Keras configuration file in your home directory:\n- ~/.keras/keras.json\n\nIn this configuration file you can change the backend property from theano (the default) to tensorflow."
    },
    {
      "metadata": {},
      "cell_type": "markdown",
      "source": "### 4.4 Build Deep Learning Models with Keras\nThe main type of model is a sequence of layers called a Sequential which is a linear stack of layers. \nYou create a Sequential and add layers to it in the order that you wish for the computation to be performed. \nWe can summarize the construction of deep learning models in Keras as follows:\n- Define your model. Create a Sequential model and add configured layers.\n- Compile your model.  Specify loss function and optimizers and call the compile() function on the model.\n- Fit your model. Train the model on a sample of data by calling the fit() function on the model.\n- Make predictions. Use the model to generate predictions on new data by calling functions such as evaluate() or predict() on the model."
    },
    {
      "metadata": {
        "trusted": true
      },
      "cell_type": "code",
      "source": "",
      "execution_count": null,
      "outputs": []
    }
  ],
  "metadata": {
    "kernelspec": {
      "name": "python36",
      "display_name": "Python 3.6",
      "language": "python"
    },
    "language_info": {
      "mimetype": "text/x-python",
      "nbconvert_exporter": "python",
      "name": "python",
      "pygments_lexer": "ipython3",
      "version": "3.6.6",
      "file_extension": ".py",
      "codemirror_mode": {
        "version": 3,
        "name": "ipython"
      }
    }
  },
  "nbformat": 4,
  "nbformat_minor": 2
}