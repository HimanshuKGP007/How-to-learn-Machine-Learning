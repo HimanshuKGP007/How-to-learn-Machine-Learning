{
 "cells": [
  {
   "cell_type": "markdown",
   "metadata": {},
   "source": [
    "## Week1: Introduction"
   ]
  },
  {
   "cell_type": "markdown",
   "metadata": {},
   "source": [
    "### Course summary "
   ]
  },
  {
   "cell_type": "markdown",
   "metadata": {
    "collapsed": true
   },
   "source": [
    "In this course, you will learn the foundations of deep learning. When you finish this class, you will:\n",
    "- Understand the major technology trends driving Deep Learning\n",
    "- Be able to build, train and apply fully connected deep neural networks\n",
    "- Know how to implement efficient(vectorized) neural networks\n",
    "- Understand the key parameters in a neural network's architecture"
   ]
  },
  {
   "cell_type": "markdown",
   "metadata": {},
   "source": [
    "### Course content\n",
    "1. Neural Networks and Deep Learning(Ccat recognizer)\n",
    "2. Improving Deep Neural Networks: Hyperparameter tuning, Regularization and Optimization\n",
    "3. Structuring your Machine Learning project (end to end)\n",
    "4. Convolutional Neural Networks\n",
    "5. Natural Language Processing: Building sequence models (RNN, LSTM)"
   ]
  },
  {
   "cell_type": "markdown",
   "metadata": {},
   "source": [
    "### What is a (Neural Network) NN?\n",
    "- Single neuron == linear regression"
   ]
  },
  {
   "cell_type": "markdown",
   "metadata": {},
   "source": [
    "<img src=\"img/Screen%20Shot%202019-01-13%20at%2016.11.52.png\">"
   ]
  },
  {
   "attachments": {},
   "cell_type": "markdown",
   "metadata": {},
   "source": [
    "- Simple NN graph:input layer, hidden layer, output layer\n",
    "<img src=\"img/Screen%20Shot%202019-01-13%20at%2016.17.59.png\">"
   ]
  },
  {
   "cell_type": "markdown",
   "metadata": {},
   "source": [
    "[Q] every input layer feature is interconnected with every hidden layer feature. \n",
    "True"
   ]
  },
  {
   "cell_type": "markdown",
   "metadata": {},
   "source": [
    "- Hidden layers predicts connection between inputs automatically, thats what deep learning is good at.\n",
    "- Supervised learning means we have the (X,Y) and we need to get the function that maps X to Y.\n",
    "- Deep NN consists of more hidden layers (Deeper layers)"
   ]
  },
  {
   "attachments": {},
   "cell_type": "markdown",
   "metadata": {},
   "source": [
    "<img src=\"img/Screen%20Shot%202019-01-13%20at%2016.23.50.png\">"
   ]
  },
  {
   "attachments": {},
   "cell_type": "markdown",
   "metadata": {},
   "source": [
    "### Supervised learning with neural networks\n",
    "<img src=\"img/Screen%20Shot%202019-01-13%20at%2016.40.34.png\">"
   ]
  },
  {
   "cell_type": "markdown",
   "metadata": {},
   "source": [
    "- Structured data is like the databases and tables.\n",
    "- Unstructured data is like images, video, audio, and text.\n",
    "- Structured data gives more money because companies relies on prediction on its big data."
   ]
  },
  {
   "cell_type": "markdown",
   "metadata": {},
   "source": [
    "Q? Would structured or unstructured data have features such as pixel values or individual words?\n",
    "Unstructured data"
   ]
  },
  {
   "attachments": {},
   "cell_type": "markdown",
   "metadata": {},
   "source": [
    "### Why is Deep Learning taking off?\n",
    "Deep learning is taking off for 3 reasons:\n",
    "- i. Data:\n",
    "  - Using this image we can conclude:\n",
    "  <img src=\"img/Screen%20Shot%202019-01-13%20at%2017.10.42.png\">\n",
    "  - For small data NN can perform as Linear regression or SVM (Support vector machine)\n",
    "  - For big data a small NN is better that SVM\n",
    "  - For big data a big NN is better that a medium NN is better that small NN.\n",
    "  - Hopefully we have a lot of data because the world is using the computer a little bit more：mobiles, IOT"
   ]
  },
  {
   "cell_type": "markdown",
   "metadata": {},
   "source": [
    "- ii. Computation:\n",
    "  - GPUs.\n",
    "  - Powerful CPUs.\n",
    "  - Distributed computing\n",
    "  - ASICs"
   ]
  },
  {
   "cell_type": "markdown",
   "metadata": {},
   "source": [
    "- iii. Algorithm:\n",
    "    - Creative algorithms has appeared that changed the way NN works.\n",
    "\n",
    "For example using RELU function is so much better than using SIGMOID function in training a NN because it helps with the vanishing gradient problem."
   ]
  },
  {
   "cell_type": "markdown",
   "metadata": {},
   "source": [
    "Q? What will the variable m denote in this course?\n",
    "Number of training examples"
   ]
  },
  {
   "cell_type": "code",
   "execution_count": null,
   "metadata": {
    "collapsed": true
   },
   "outputs": [],
   "source": []
  }
 ],
 "metadata": {
  "kernelspec": {
   "display_name": "Python 3",
   "language": "python",
   "name": "python3"
  },
  "language_info": {
   "codemirror_mode": {
    "name": "ipython",
    "version": 3
   },
   "file_extension": ".py",
   "mimetype": "text/x-python",
   "name": "python",
   "nbconvert_exporter": "python",
   "pygments_lexer": "ipython3",
   "version": "3.6.3"
  }
 },
 "nbformat": 4,
 "nbformat_minor": 2
}
