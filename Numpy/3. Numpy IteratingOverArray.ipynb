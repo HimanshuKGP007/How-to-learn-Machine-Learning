{
 "cells": [
  {
   "cell_type": "markdown",
   "metadata": {},
   "source": [
    "## NumPy - Iterating Over Array\n",
    "\n",
    "numpy.nditer is an efficient multidimensional iterator object using which it is possible to iterate over an array"
   ]
  },
  {
   "cell_type": "code",
   "execution_count": 1,
   "metadata": {},
   "outputs": [
    {
     "name": "stdout",
     "output_type": "stream",
     "text": [
      "Original array is:\n",
      "[[ 0  5 10 15]\n",
      " [20 25 30 35]\n",
      " [40 45 50 55]]\n",
      "\n",
      "\n",
      "Modified array is:\n",
      "0 5 10 15 20 25 30 35 40 45 50 55\n"
     ]
    }
   ],
   "source": [
    "import numpy as np\n",
    "a = np.arange(0,60,5)\n",
    "a = a.reshape(3,4)\n",
    "\n",
    "print 'Original array is:'\n",
    "print a\n",
    "print '\\n'\n",
    "\n",
    "print 'Modified array is:'\n",
    "for x in np.nditer(a):\n",
    "   print x,"
   ]
  },
  {
   "cell_type": "code",
   "execution_count": 2,
   "metadata": {},
   "outputs": [
    {
     "name": "stdout",
     "output_type": "stream",
     "text": [
      "Original array is:\n",
      "[[ 0  5 10 15]\n",
      " [20 25 30 35]\n",
      " [40 45 50 55]]\n",
      "\n",
      "\n",
      "Transpose of the original array is:\n",
      "[[ 0 20 40]\n",
      " [ 5 25 45]\n",
      " [10 30 50]\n",
      " [15 35 55]]\n",
      "\n",
      "\n",
      "Modified array is:\n",
      "0 5 10 15 20 25 30 35 40 45 50 55\n"
     ]
    }
   ],
   "source": [
    "import numpy as np \n",
    "a = np.arange(0,60,5) \n",
    "a = a.reshape(3,4) \n",
    "   \n",
    "print 'Original array is:'\n",
    "print a \n",
    "print '\\n'  \n",
    "   \n",
    "print 'Transpose of the original array is:' \n",
    "b = a.T \n",
    "print b \n",
    "print '\\n'  \n",
    "   \n",
    "print 'Modified array is:' \n",
    "for x in np.nditer(b): \n",
    "   print x,"
   ]
  },
  {
   "cell_type": "markdown",
   "metadata": {},
   "source": [
    "The order of iteration is chosen to match the memory layout of an array, without considering a particular ordering. \n",
    "### Iteration Order\n",
    "\n",
    "If the same elements are stored using F-style order, the iterator chooses the more efficient way of iterating over an array."
   ]
  },
  {
   "cell_type": "code",
   "execution_count": 3,
   "metadata": {},
   "outputs": [
    {
     "name": "stdout",
     "output_type": "stream",
     "text": [
      "Original array is:\n",
      "[[ 0  5 10 15]\n",
      " [20 25 30 35]\n",
      " [40 45 50 55]]\n",
      "\n",
      "\n",
      "Transpose of the original array is:\n",
      "[[ 0 20 40]\n",
      " [ 5 25 45]\n",
      " [10 30 50]\n",
      " [15 35 55]]\n",
      "\n",
      "\n",
      "Sorted in C-style order:\n",
      "[[ 0 20 40]\n",
      " [ 5 25 45]\n",
      " [10 30 50]\n",
      " [15 35 55]]\n",
      "0 20 40 5 25 45 10 30 50 15 35 55 \n",
      "\n",
      "Sorted in F-style order:\n",
      "[[ 0 20 40]\n",
      " [ 5 25 45]\n",
      " [10 30 50]\n",
      " [15 35 55]]\n",
      "0 5 10 15 20 25 30 35 40 45 50 55\n"
     ]
    }
   ],
   "source": [
    "import numpy as np\n",
    "a = np.arange(0,60,5)\n",
    "a = a.reshape(3,4)\n",
    "print 'Original array is:'\n",
    "print a\n",
    "print '\\n'\n",
    "\n",
    "print 'Transpose of the original array is:'\n",
    "b = a.T\n",
    "print b\n",
    "print '\\n'\n",
    "\n",
    "print 'Sorted in C-style order:'\n",
    "c = b.copy(order = 'C')\n",
    "print c\n",
    "for x in np.nditer(c):\n",
    "   print x,\n",
    "\n",
    "print '\\n'\n",
    "\n",
    "print 'Sorted in F-style order:'\n",
    "c = b.copy(order = 'F')\n",
    "print c\n",
    "for x in np.nditer(c):\n",
    "   print x,"
   ]
  },
  {
   "cell_type": "markdown",
   "metadata": {},
   "source": [
    "Ex2: It is possible to force nditer object to use a specific order by explicitly mentioning it."
   ]
  },
  {
   "cell_type": "code",
   "execution_count": 4,
   "metadata": {},
   "outputs": [
    {
     "name": "stdout",
     "output_type": "stream",
     "text": [
      "Original array is:\n",
      "[[ 0  5 10 15]\n",
      " [20 25 30 35]\n",
      " [40 45 50 55]]\n",
      "\n",
      "\n",
      "Sorted in C-style order:\n",
      "0 5 10 15 20 25 30 35 40 45 50 55 \n",
      "\n",
      "Sorted in F-style order:\n",
      "0 20 40 5 25 45 10 30 50 15 35 55\n"
     ]
    }
   ],
   "source": [
    "import numpy as np \n",
    "a = np.arange(0,60,5) \n",
    "a = a.reshape(3,4) \n",
    "\n",
    "print 'Original array is:' \n",
    "print a \n",
    "print '\\n'  \n",
    "\n",
    "print 'Sorted in C-style order:' \n",
    "for x in np.nditer(a, order = 'C'): \n",
    "   print x,  \n",
    "print '\\n' \n",
    "\n",
    "print 'Sorted in F-style order:' \n",
    "for x in np.nditer(a, order = 'F'): \n",
    "   print x,"
   ]
  },
  {
   "cell_type": "markdown",
   "metadata": {},
   "source": [
    "#### Modifying Array Values\n",
    "\n",
    "The nditer object has another optional parameter called op_flags. Its default value is read-only, but can be set to read-write or write-only mode. This will enable modifying array elements using this iterator."
   ]
  },
  {
   "cell_type": "code",
   "execution_count": 5,
   "metadata": {},
   "outputs": [
    {
     "name": "stdout",
     "output_type": "stream",
     "text": [
      "Original array is:\n",
      "[[ 0  5 10 15]\n",
      " [20 25 30 35]\n",
      " [40 45 50 55]]\n",
      "\n",
      "\n",
      "Modified array is:\n",
      "[[  0  10  20  30]\n",
      " [ 40  50  60  70]\n",
      " [ 80  90 100 110]]\n"
     ]
    }
   ],
   "source": [
    "import numpy as np\n",
    "a = np.arange(0,60,5)\n",
    "a = a.reshape(3,4)\n",
    "print 'Original array is:'\n",
    "print a\n",
    "print '\\n'\n",
    "\n",
    "for x in np.nditer(a, op_flags = ['readwrite']):\n",
    "   x[...] = 2*x\n",
    "print 'Modified array is:'\n",
    "print a"
   ]
  },
  {
   "cell_type": "markdown",
   "metadata": {},
   "source": [
    "#### External Loop\n",
    "\n",
    "c_index: C_order index can be tracked\n",
    "f_index: Fortran_order index is tracked\n",
    "multi-index: Type of indexes with one per iteration can be tracked\n",
    "external_loop: Causes values given to be one-dimensional arrays with multiple values instead of zero-dimensional array"
   ]
  },
  {
   "cell_type": "markdown",
   "metadata": {},
   "source": [
    "Ex1: one-dimensional arrays corresponding to each column is traversed by the iterator."
   ]
  },
  {
   "cell_type": "code",
   "execution_count": 6,
   "metadata": {},
   "outputs": [
    {
     "name": "stdout",
     "output_type": "stream",
     "text": [
      "Original array is:\n",
      "[[ 0  5 10 15]\n",
      " [20 25 30 35]\n",
      " [40 45 50 55]]\n",
      "\n",
      "\n",
      "Modified array is:\n",
      "[ 0 20 40] [ 5 25 45] [10 30 50] [15 35 55]\n"
     ]
    }
   ],
   "source": [
    "import numpy as np \n",
    "a = np.arange(0,60,5) \n",
    "a = a.reshape(3,4) \n",
    "\n",
    "print 'Original array is:' \n",
    "print a \n",
    "print '\\n'  \n",
    "\n",
    "print 'Modified array is:' \n",
    "for x in np.nditer(a, flags = ['external_loop'], order = 'F'):\n",
    "   print x,"
   ]
  },
  {
   "cell_type": "markdown",
   "metadata": {},
   "source": [
    "#### Broadcasting Iteration\n",
    "\n",
    "If two arrays are broadcastable, a combined nditer object is able to iterate upon them concurrently"
   ]
  },
  {
   "cell_type": "code",
   "execution_count": 7,
   "metadata": {},
   "outputs": [
    {
     "name": "stdout",
     "output_type": "stream",
     "text": [
      "First array is:\n",
      "[[ 0  5 10 15]\n",
      " [20 25 30 35]\n",
      " [40 45 50 55]]\n",
      "\n",
      "\n",
      "Second array is:\n",
      "[1 2 3 4]\n",
      "\n",
      "\n",
      "Modified array is:\n",
      "0:1 5:2 10:3 15:4 20:1 25:2 30:3 35:4 40:1 45:2 50:3 55:4\n"
     ]
    }
   ],
   "source": [
    "import numpy as np \n",
    "a = np.arange(0,60,5) \n",
    "a = a.reshape(3,4) \n",
    "\n",
    "print 'First array is:' \n",
    "print a \n",
    "print '\\n'  \n",
    "\n",
    "print 'Second array is:' \n",
    "b = np.array([1, 2, 3, 4], dtype = int) \n",
    "print b  \n",
    "print '\\n' \n",
    "\n",
    "print 'Modified array is:' \n",
    "for x,y in np.nditer([a,b]): \n",
    "   print \"%d:%d\" % (x,y),"
   ]
  },
  {
   "cell_type": "code",
   "execution_count": null,
   "metadata": {
    "collapsed": true
   },
   "outputs": [],
   "source": []
  }
 ],
 "metadata": {
  "kernelspec": {
   "display_name": "Python 3",
   "language": "python",
   "name": "python3"
  },
  "language_info": {
   "codemirror_mode": {
    "name": "ipython",
    "version": 3
   },
   "file_extension": ".py",
   "mimetype": "text/x-python",
   "name": "python",
   "nbconvert_exporter": "python",
   "pygments_lexer": "ipython3",
   "version": "3.6.3"
  }
 },
 "nbformat": 4,
 "nbformat_minor": 1
}
